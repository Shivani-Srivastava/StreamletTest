{
  "nbformat": 4,
  "nbformat_minor": 0,
  "metadata": {
    "colab": {
      "provenance": [],
      "authorship_tag": "ABX9TyM2KAS5Xv6hAbnnd4iI2V+4",
      "include_colab_link": true
    },
    "kernelspec": {
      "name": "python3",
      "display_name": "Python 3"
    },
    "language_info": {
      "name": "python"
    }
  },
  "cells": [
    {
      "cell_type": "markdown",
      "metadata": {
        "id": "view-in-github",
        "colab_type": "text"
      },
      "source": [
        "<a href=\"https://colab.research.google.com/github/Shivani-Srivastava/StreamletTest/blob/main/SVO_Extract_ECs.ipynb\" target=\"_parent\"><img src=\"https://colab.research.google.com/assets/colab-badge.svg\" alt=\"Open In Colab\"/></a>"
      ]
    },
    {
      "cell_type": "code",
      "execution_count": 1,
      "metadata": {
        "colab": {
          "base_uri": "https://localhost:8080/"
        },
        "id": "TjoUaZSSK0sS",
        "outputId": "ba88fc19-38ab-4424-f0a2-91b1e2edade0"
      },
      "outputs": [
        {
          "output_type": "stream",
          "name": "stdout",
          "text": [
            "Looking in indexes: https://pypi.org/simple, https://us-python.pkg.dev/colab-wheels/public/simple/\n",
            "Requirement already satisfied: requests in /usr/local/lib/python3.10/dist-packages (2.27.1)\n",
            "Requirement already satisfied: urllib3<1.27,>=1.21.1 in /usr/local/lib/python3.10/dist-packages (from requests) (1.26.16)\n",
            "Requirement already satisfied: certifi>=2017.4.17 in /usr/local/lib/python3.10/dist-packages (from requests) (2023.5.7)\n",
            "Requirement already satisfied: charset-normalizer~=2.0.0 in /usr/local/lib/python3.10/dist-packages (from requests) (2.0.12)\n",
            "Requirement already satisfied: idna<4,>=2.5 in /usr/local/lib/python3.10/dist-packages (from requests) (3.4)\n"
          ]
        }
      ],
      "source": [
        "!pip install requests"
      ]
    },
    {
      "cell_type": "code",
      "source": [
        "!pip install spacy"
      ],
      "metadata": {
        "colab": {
          "base_uri": "https://localhost:8080/"
        },
        "id": "3n5r02ytLn7c",
        "outputId": "e4294504-a960-4df9-93b0-bcac8ac30b47"
      },
      "execution_count": 2,
      "outputs": [
        {
          "output_type": "stream",
          "name": "stdout",
          "text": [
            "Looking in indexes: https://pypi.org/simple, https://us-python.pkg.dev/colab-wheels/public/simple/\n",
            "Requirement already satisfied: spacy in /usr/local/lib/python3.10/dist-packages (3.5.3)\n",
            "Requirement already satisfied: spacy-legacy<3.1.0,>=3.0.11 in /usr/local/lib/python3.10/dist-packages (from spacy) (3.0.12)\n",
            "Requirement already satisfied: spacy-loggers<2.0.0,>=1.0.0 in /usr/local/lib/python3.10/dist-packages (from spacy) (1.0.4)\n",
            "Requirement already satisfied: murmurhash<1.1.0,>=0.28.0 in /usr/local/lib/python3.10/dist-packages (from spacy) (1.0.9)\n",
            "Requirement already satisfied: cymem<2.1.0,>=2.0.2 in /usr/local/lib/python3.10/dist-packages (from spacy) (2.0.7)\n",
            "Requirement already satisfied: preshed<3.1.0,>=3.0.2 in /usr/local/lib/python3.10/dist-packages (from spacy) (3.0.8)\n",
            "Requirement already satisfied: thinc<8.2.0,>=8.1.8 in /usr/local/lib/python3.10/dist-packages (from spacy) (8.1.10)\n",
            "Requirement already satisfied: wasabi<1.2.0,>=0.9.1 in /usr/local/lib/python3.10/dist-packages (from spacy) (1.1.2)\n",
            "Requirement already satisfied: srsly<3.0.0,>=2.4.3 in /usr/local/lib/python3.10/dist-packages (from spacy) (2.4.6)\n",
            "Requirement already satisfied: catalogue<2.1.0,>=2.0.6 in /usr/local/lib/python3.10/dist-packages (from spacy) (2.0.8)\n",
            "Requirement already satisfied: typer<0.8.0,>=0.3.0 in /usr/local/lib/python3.10/dist-packages (from spacy) (0.7.0)\n",
            "Requirement already satisfied: pathy>=0.10.0 in /usr/local/lib/python3.10/dist-packages (from spacy) (0.10.2)\n",
            "Requirement already satisfied: smart-open<7.0.0,>=5.2.1 in /usr/local/lib/python3.10/dist-packages (from spacy) (6.3.0)\n",
            "Requirement already satisfied: tqdm<5.0.0,>=4.38.0 in /usr/local/lib/python3.10/dist-packages (from spacy) (4.65.0)\n",
            "Requirement already satisfied: numpy>=1.15.0 in /usr/local/lib/python3.10/dist-packages (from spacy) (1.22.4)\n",
            "Requirement already satisfied: requests<3.0.0,>=2.13.0 in /usr/local/lib/python3.10/dist-packages (from spacy) (2.27.1)\n",
            "Requirement already satisfied: pydantic!=1.8,!=1.8.1,<1.11.0,>=1.7.4 in /usr/local/lib/python3.10/dist-packages (from spacy) (1.10.9)\n",
            "Requirement already satisfied: jinja2 in /usr/local/lib/python3.10/dist-packages (from spacy) (3.1.2)\n",
            "Requirement already satisfied: setuptools in /usr/local/lib/python3.10/dist-packages (from spacy) (67.7.2)\n",
            "Requirement already satisfied: packaging>=20.0 in /usr/local/lib/python3.10/dist-packages (from spacy) (23.1)\n",
            "Requirement already satisfied: langcodes<4.0.0,>=3.2.0 in /usr/local/lib/python3.10/dist-packages (from spacy) (3.3.0)\n",
            "Requirement already satisfied: typing-extensions>=4.2.0 in /usr/local/lib/python3.10/dist-packages (from pydantic!=1.8,!=1.8.1,<1.11.0,>=1.7.4->spacy) (4.6.3)\n",
            "Requirement already satisfied: urllib3<1.27,>=1.21.1 in /usr/local/lib/python3.10/dist-packages (from requests<3.0.0,>=2.13.0->spacy) (1.26.16)\n",
            "Requirement already satisfied: certifi>=2017.4.17 in /usr/local/lib/python3.10/dist-packages (from requests<3.0.0,>=2.13.0->spacy) (2023.5.7)\n",
            "Requirement already satisfied: charset-normalizer~=2.0.0 in /usr/local/lib/python3.10/dist-packages (from requests<3.0.0,>=2.13.0->spacy) (2.0.12)\n",
            "Requirement already satisfied: idna<4,>=2.5 in /usr/local/lib/python3.10/dist-packages (from requests<3.0.0,>=2.13.0->spacy) (3.4)\n",
            "Requirement already satisfied: blis<0.8.0,>=0.7.8 in /usr/local/lib/python3.10/dist-packages (from thinc<8.2.0,>=8.1.8->spacy) (0.7.9)\n",
            "Requirement already satisfied: confection<1.0.0,>=0.0.1 in /usr/local/lib/python3.10/dist-packages (from thinc<8.2.0,>=8.1.8->spacy) (0.0.4)\n",
            "Requirement already satisfied: click<9.0.0,>=7.1.1 in /usr/local/lib/python3.10/dist-packages (from typer<0.8.0,>=0.3.0->spacy) (8.1.3)\n",
            "Requirement already satisfied: MarkupSafe>=2.0 in /usr/local/lib/python3.10/dist-packages (from jinja2->spacy) (2.1.3)\n"
          ]
        }
      ]
    },
    {
      "cell_type": "code",
      "source": [
        "!python -m spacy download en_core_web_md"
      ],
      "metadata": {
        "colab": {
          "base_uri": "https://localhost:8080/"
        },
        "id": "09E-NZ86L3Br",
        "outputId": "03f206bb-781e-474d-a368-01c8d0e49167"
      },
      "execution_count": 3,
      "outputs": [
        {
          "output_type": "stream",
          "name": "stdout",
          "text": [
            "2023-06-26 10:11:38.751986: I tensorflow/core/platform/cpu_feature_guard.cc:182] This TensorFlow binary is optimized to use available CPU instructions in performance-critical operations.\n",
            "To enable the following instructions: AVX2 FMA, in other operations, rebuild TensorFlow with the appropriate compiler flags.\n",
            "2023-06-26 10:11:39.866050: W tensorflow/compiler/tf2tensorrt/utils/py_utils.cc:38] TF-TRT Warning: Could not find TensorRT\n",
            "Looking in indexes: https://pypi.org/simple, https://us-python.pkg.dev/colab-wheels/public/simple/\n",
            "Collecting en-core-web-md==3.5.0\n",
            "  Downloading https://github.com/explosion/spacy-models/releases/download/en_core_web_md-3.5.0/en_core_web_md-3.5.0-py3-none-any.whl (42.8 MB)\n",
            "\u001b[2K     \u001b[90m━━━━━━━━━━━━━━━━━━━━━━━━━━━━━━━━━━━━━━━━\u001b[0m \u001b[32m42.8/42.8 MB\u001b[0m \u001b[31m15.4 MB/s\u001b[0m eta \u001b[36m0:00:00\u001b[0m\n",
            "\u001b[?25hRequirement already satisfied: spacy<3.6.0,>=3.5.0 in /usr/local/lib/python3.10/dist-packages (from en-core-web-md==3.5.0) (3.5.3)\n",
            "Requirement already satisfied: spacy-legacy<3.1.0,>=3.0.11 in /usr/local/lib/python3.10/dist-packages (from spacy<3.6.0,>=3.5.0->en-core-web-md==3.5.0) (3.0.12)\n",
            "Requirement already satisfied: spacy-loggers<2.0.0,>=1.0.0 in /usr/local/lib/python3.10/dist-packages (from spacy<3.6.0,>=3.5.0->en-core-web-md==3.5.0) (1.0.4)\n",
            "Requirement already satisfied: murmurhash<1.1.0,>=0.28.0 in /usr/local/lib/python3.10/dist-packages (from spacy<3.6.0,>=3.5.0->en-core-web-md==3.5.0) (1.0.9)\n",
            "Requirement already satisfied: cymem<2.1.0,>=2.0.2 in /usr/local/lib/python3.10/dist-packages (from spacy<3.6.0,>=3.5.0->en-core-web-md==3.5.0) (2.0.7)\n",
            "Requirement already satisfied: preshed<3.1.0,>=3.0.2 in /usr/local/lib/python3.10/dist-packages (from spacy<3.6.0,>=3.5.0->en-core-web-md==3.5.0) (3.0.8)\n",
            "Requirement already satisfied: thinc<8.2.0,>=8.1.8 in /usr/local/lib/python3.10/dist-packages (from spacy<3.6.0,>=3.5.0->en-core-web-md==3.5.0) (8.1.10)\n",
            "Requirement already satisfied: wasabi<1.2.0,>=0.9.1 in /usr/local/lib/python3.10/dist-packages (from spacy<3.6.0,>=3.5.0->en-core-web-md==3.5.0) (1.1.2)\n",
            "Requirement already satisfied: srsly<3.0.0,>=2.4.3 in /usr/local/lib/python3.10/dist-packages (from spacy<3.6.0,>=3.5.0->en-core-web-md==3.5.0) (2.4.6)\n",
            "Requirement already satisfied: catalogue<2.1.0,>=2.0.6 in /usr/local/lib/python3.10/dist-packages (from spacy<3.6.0,>=3.5.0->en-core-web-md==3.5.0) (2.0.8)\n",
            "Requirement already satisfied: typer<0.8.0,>=0.3.0 in /usr/local/lib/python3.10/dist-packages (from spacy<3.6.0,>=3.5.0->en-core-web-md==3.5.0) (0.7.0)\n",
            "Requirement already satisfied: pathy>=0.10.0 in /usr/local/lib/python3.10/dist-packages (from spacy<3.6.0,>=3.5.0->en-core-web-md==3.5.0) (0.10.2)\n",
            "Requirement already satisfied: smart-open<7.0.0,>=5.2.1 in /usr/local/lib/python3.10/dist-packages (from spacy<3.6.0,>=3.5.0->en-core-web-md==3.5.0) (6.3.0)\n",
            "Requirement already satisfied: tqdm<5.0.0,>=4.38.0 in /usr/local/lib/python3.10/dist-packages (from spacy<3.6.0,>=3.5.0->en-core-web-md==3.5.0) (4.65.0)\n",
            "Requirement already satisfied: numpy>=1.15.0 in /usr/local/lib/python3.10/dist-packages (from spacy<3.6.0,>=3.5.0->en-core-web-md==3.5.0) (1.22.4)\n",
            "Requirement already satisfied: requests<3.0.0,>=2.13.0 in /usr/local/lib/python3.10/dist-packages (from spacy<3.6.0,>=3.5.0->en-core-web-md==3.5.0) (2.27.1)\n",
            "Requirement already satisfied: pydantic!=1.8,!=1.8.1,<1.11.0,>=1.7.4 in /usr/local/lib/python3.10/dist-packages (from spacy<3.6.0,>=3.5.0->en-core-web-md==3.5.0) (1.10.9)\n",
            "Requirement already satisfied: jinja2 in /usr/local/lib/python3.10/dist-packages (from spacy<3.6.0,>=3.5.0->en-core-web-md==3.5.0) (3.1.2)\n",
            "Requirement already satisfied: setuptools in /usr/local/lib/python3.10/dist-packages (from spacy<3.6.0,>=3.5.0->en-core-web-md==3.5.0) (67.7.2)\n",
            "Requirement already satisfied: packaging>=20.0 in /usr/local/lib/python3.10/dist-packages (from spacy<3.6.0,>=3.5.0->en-core-web-md==3.5.0) (23.1)\n",
            "Requirement already satisfied: langcodes<4.0.0,>=3.2.0 in /usr/local/lib/python3.10/dist-packages (from spacy<3.6.0,>=3.5.0->en-core-web-md==3.5.0) (3.3.0)\n",
            "Requirement already satisfied: typing-extensions>=4.2.0 in /usr/local/lib/python3.10/dist-packages (from pydantic!=1.8,!=1.8.1,<1.11.0,>=1.7.4->spacy<3.6.0,>=3.5.0->en-core-web-md==3.5.0) (4.6.3)\n",
            "Requirement already satisfied: urllib3<1.27,>=1.21.1 in /usr/local/lib/python3.10/dist-packages (from requests<3.0.0,>=2.13.0->spacy<3.6.0,>=3.5.0->en-core-web-md==3.5.0) (1.26.16)\n",
            "Requirement already satisfied: certifi>=2017.4.17 in /usr/local/lib/python3.10/dist-packages (from requests<3.0.0,>=2.13.0->spacy<3.6.0,>=3.5.0->en-core-web-md==3.5.0) (2023.5.7)\n",
            "Requirement already satisfied: charset-normalizer~=2.0.0 in /usr/local/lib/python3.10/dist-packages (from requests<3.0.0,>=2.13.0->spacy<3.6.0,>=3.5.0->en-core-web-md==3.5.0) (2.0.12)\n",
            "Requirement already satisfied: idna<4,>=2.5 in /usr/local/lib/python3.10/dist-packages (from requests<3.0.0,>=2.13.0->spacy<3.6.0,>=3.5.0->en-core-web-md==3.5.0) (3.4)\n",
            "Requirement already satisfied: blis<0.8.0,>=0.7.8 in /usr/local/lib/python3.10/dist-packages (from thinc<8.2.0,>=8.1.8->spacy<3.6.0,>=3.5.0->en-core-web-md==3.5.0) (0.7.9)\n",
            "Requirement already satisfied: confection<1.0.0,>=0.0.1 in /usr/local/lib/python3.10/dist-packages (from thinc<8.2.0,>=8.1.8->spacy<3.6.0,>=3.5.0->en-core-web-md==3.5.0) (0.0.4)\n",
            "Requirement already satisfied: click<9.0.0,>=7.1.1 in /usr/local/lib/python3.10/dist-packages (from typer<0.8.0,>=0.3.0->spacy<3.6.0,>=3.5.0->en-core-web-md==3.5.0) (8.1.3)\n",
            "Requirement already satisfied: MarkupSafe>=2.0 in /usr/local/lib/python3.10/dist-packages (from jinja2->spacy<3.6.0,>=3.5.0->en-core-web-md==3.5.0) (2.1.3)\n",
            "Installing collected packages: en-core-web-md\n",
            "Successfully installed en-core-web-md-3.5.0\n",
            "\u001b[38;5;2m✔ Download and installation successful\u001b[0m\n",
            "You can now load the package via spacy.load('en_core_web_md')\n"
          ]
        }
      ]
    },
    {
      "cell_type": "code",
      "source": [
        "import pandas as pd\n",
        "import requests\n",
        "\n",
        "github_link = 'https://raw.githubusercontent.com/Shivani-Srivastava/StreamletTest/main/sample-calls.txt'\n",
        "\n",
        "response = requests.get(github_link)\n",
        "lines = response.text.splitlines()\n",
        "\n",
        "df = pd.DataFrame({'Line':lines,'Sequence':range(1, len(lines)+1)})\n",
        "\n",
        "print(df)"
      ],
      "metadata": {
        "colab": {
          "base_uri": "https://localhost:8080/"
        },
        "id": "CI5jc2lzL9_H",
        "outputId": "11b69f9d-ae1b-4ee0-d42f-a15d1e8fa6f1"
      },
      "execution_count": 4,
      "outputs": [
        {
          "output_type": "stream",
          "name": "stdout",
          "text": [
            "                                                Line  Sequence\n",
            "0  Question and Answer Operator [Operator Instruc...         1\n",
            "1  Question and Answer Operator [Operator instruc...         2\n",
            "2  Question and Answer Operator [Operator Instruc...         3\n",
            "3  Question and Answer Operator [Operator Instruc...         4\n",
            "4  Question and Answer Operator At this time, we ...         5\n",
            "5  Question and Answer Operator [Operator Instruc...         6\n",
            "6  Question and Answer Operator [Operator Instruc...         7\n",
            "7  Question and Answer Operator [Operator Instruc...         8\n",
            "8  Question and Answer Operator [Operator Instruc...         9\n"
          ]
        }
      ]
    },
    {
      "cell_type": "code",
      "source": [
        "import spacy\n",
        "\n",
        "nlp = spacy.load('en_core_web_md')\n"
      ],
      "metadata": {
        "id": "ULP1kt9PMXNN"
      },
      "execution_count": 5,
      "outputs": []
    },
    {
      "cell_type": "code",
      "source": [
        "lines[0]"
      ],
      "metadata": {
        "colab": {
          "base_uri": "https://localhost:8080/",
          "height": 191
        },
        "id": "aKn38faVMu7Z",
        "outputId": "e0855fd4-7e79-4342-ba2a-271a08be67c2"
      },
      "execution_count": 6,
      "outputs": [
        {
          "output_type": "execute_result",
          "data": {
            "text/plain": [
              "\"Question and Answer Operator [Operator Instructions] Your first question comes from the line of Andy Kaplowitz of Barclays. Andrew Alec Kaplowitz Barclays Bank PLC, Research Division Could you talk a little bit more about your visibility in North America for the rest of the year? And particularly in high-horsepower tractors, what do you think the risk is of order cancellation? Have you seen any? And what do you think of the risk is going forward? Martin H. Richenhagen Chairman, President & CEO I think we have a very good visibility in all risk, and opportunities are included in the numbers we just discussed. Andrew Alec Kaplowitz Barclays Bank PLC, Research Division Okay. So -- and you're not really seeing anything so far. You're just kind of watching and learn. Martin H. Richenhagen Chairman, President & CEO Exactly. Andrew Alec Kaplowitz Barclays Bank PLC, Research Division Okay, that's helpful. And then could you talk about the incrementals in North America? They were very strong in the quarter, obviously. You talked a little bit about cost control. We know you're starting a new facility or you did start a new facility in North America. Is that all contributing to better performance in North America? Andrew H. Beck Senior VP & CFO In North America, a number of factors influencing the results. Clearly, the GSI acquisition, which is our -- the performance is strongest seasonally in the second quarter, was a key driver of the improvement. But also underlying that, we mentioned that our operating margins, excluding GSI, would have been about 10%. And so we're seeing in the core business, great improvement as well. I think a lot of the factors there are the key increases in some of our most profitable products like high-horsepower tractors, sprayers and hay equipment were driving that improvement. Andrew Alec Kaplowitz Barclays Bank PLC, Research Division And just one more follow-up on that. Could I ask you about GSI in the context of -- I mean, you did $0.39 so far for the year. I know that 4Q is usually -- I mean, you talked about it maybe being dilutive. But $0.06 seems a bit conservative. Is it just because you're watching North America so closely? Or -- and how does the international strength offset that? Andrew H. Beck Senior VP & CFO Yes. We're -- what we're seeing right now is some softness in the North America market. But we have been able to offset that with better-than-expected results in our international sales. So we've been very pleased with the growth that we have achieved there. As you said, what we see seasonally from GSI is the first half is much better than the second half, and the fourth quarter is dilutive. So we're comfortable with that $0.45 per share guidance that we're giving. Martin H. Richenhagen Chairman, President & CEO And we want to be conservative also. Operator Your next question comes from the line of Ann Duignan of JPMorgan. Ann P. Duignan JP Morgan Chase & Co, Research Division I appreciate the emphasis on the monitoring of the situation, given the drought for 2012. But Martin, could you talk a little bit about where you might anticipate the impact being for your business? I worry about GSI, given that it's both protein production and grain storage, neither of which are likely to be in very healthy conditions by the end of the year versus your livestock business on the tractor side. Which businesses are you monitoring most closely to get a sense of where the impact might be and how quickly it might show up? Martin H. Richenhagen Chairman, President & CEO Yes. One is, we are very sorry for the farmers who suffer from the drought. But as you can imagine with our footprint, this is such only a small portion of our business. Most of AGCO's customers benefit very much from the much higher commodity prices. And that's a very strong year because prices go up and on the other hand, also, input prices go down. So they will generate excellent profits this year. We are seeing some problems in rather smaller markets for us like Italy and Spain. This is where some of the local manufacturing companies like Landini and Sami [ph] might be hit, but we are -- they are pretty much in the sector of high-horsepower tractors. And in Europe, I think any problem one might think about in those part of Europe will be offset by a stronger growth in Russia and Eastern Europe. In the -- the situation in GSI, we very strongly monitor GSI, of course, because it's a new acquisition. And so we want to make sure that we understand the business. What we see is that the synergies in the international markets are much bigger than we would have expected. We have a lot of strong dealers in South America and in Europe and China and Eastern Europe, who are very interested in that business. And we see more growth in those part of the world, which offset basically the potential difficulties in the American corn belt. Ann P. Duignan JP Morgan Chase & Co, Research Division Could you just update us on your sugarcane harvester in Brazil? When will that product come to market? And should we anticipate some market share gains when you have both the tractors and combines for that segment? Martin H. Richenhagen Chairman, President & CEO That is actually the sugarcane business we own now and we sell. That's the -- yesterday, we sold some to Africa so that means we also here have the opportunity to globalize that business a little more, and you will see the full impact of the sugarcane harvester in 2013. Operator Your next question is from the line of Rob Wertheimer of Vertical Research Partners. Robert Cameron Wertheimer Vertical Research Partners, LLC I just had a curious question on the strong high-horsepower tractors in the U.S. Is that specifically tied to a particular subregion or strategy or brand? Or can you sort of talk about how you made progress in that? Martin H. Richenhagen Chairman, President & CEO It's a combination -- first of all, it's our strategy. Because in our portfolio, we have the best-performing, high-horsepower tractor in the world. And this is the Fendt brand, if you connect it with the brand. We basically -- the Fendt tractor, in a way, is maybe a little bit too high tech for the average American farmer. And therefore, we decided to take the most important elements, which are -- which is basically the dry strength, the transmission and the rear axle and in many cases, also our diesel engine into the Challenger brand of tractors. The Challenger is the brand, which is exclusive to our Caterpillar distribution network. And we see those big Cat dealers getting traction, investing money and focusing in this very segment. So the advantage of our tractors is they're very performing. They're very productive. They have very low cost of operating per hour, per acre. Fuel consumption is much lower than what you see typically from competitors. And our tractors have the lowest cost of ownership, all considered. Robert Cameron Wertheimer Vertical Research Partners, LLC Okay, that's helfpul. And then one follow-up, you mentioned and I think... Martin H. Richenhagen Chairman, President & CEO It worked almost like a commercial, wasn't it? Robert Cameron Wertheimer Vertical Research Partners, LLC It was pretty good. So you mentioned, Martin, the drought, even though it's tough on a lot of farmers, can be good on others. I assume that's mostly Europe and South America. Have you heard already positive sort of sales/order indications as generally commodity prices have been driven up? Martin H. Richenhagen Chairman, President & CEO Yes, but we don't want to talk about next year. But when you talk to dealers, customers, competitors in the various -- what I, for example, like is I like to talk to local players. Like in France, the market leader in soil preparation is a company called Tegua [ph] Bisance [ph]. So when I talk to Patrick Bisance [ph] about next year, I was basically expecting some kind of conservative statement. But they are all very positive about it. So far, what we hear from Europe and also what we hear in South America is pretty positive. And I think, without giving guidance here, I'm expecting also a great year 2013 for our industry, especially because of our strengths in Europe. Operator Your next question comes from the line of Jamie Cook of Credit Suisse. Jamie Lyn Cook Crédit Suisse AG, Research Division Two questions. One, with regards -- you took your pricing forecast modestly. Is that just still a function of more competitive pricing in Brazil? Or could you add color there? And then Martin, well, you don't want to talk about -- well, I won't ask you about 2013. Let me -- on Europe you seem, I guess, a lot more positive or you seem positive about 2013. I guess, I've been hearing from some suppliers, for example, Annexer [ph], reported this past week. They talked about a slowdown in ag, and I think they were focused more on Western Europe. There was another supplier who on the axle side, so -- I mean, within Europe is it still very much south versus north. Is there anything that you're seeing in the west -- on the northern side of Europe that's concerning you at all? Martin H. Richenhagen Chairman, President & CEO Actually, I'm not concerned about Europe. And also, when you talk to suppliers, you have to understand where are their main markets. So in axles, if we -- most probably, we talk about the same company. This is a company who does most of the business in Italy for Italian manufacturers, smaller and bigger ones. And they, of course, are then hit more. We have different concerns. We have some of our suppliers who have capacity issues, and that is also a reason why then we have some inventory problems here and there. So overall, my discussion includes, of course, suppliers. We talked to suppliers, but you need to understand where they do business and what is the nature of their business overall. You get a good picture, if you talk to tire guys, to hydraulic manufacturers and so and so. And I had, so far, not one discussion where anybody was assuming any kind of slowdown in Europe. And then I want to make also a little statement on the drought. Of course, we do business here in the open nature, so that means not everything we are doing can be 100% controlled. This is a severe drought. But of course, we have those situations also in the past. One year, it's the rain, and we have too much water. Another year, we don't have enough. So overall, of course, my assumption is not that this drought will now go on for the next 5 years. So that means, I'm not an expert, but if you just believe in statistics, then you could assume that also next year, the corn belt could come back. And what I hear from companies focused in seeding, they are very bullish about 2013, and there's no reason why to be pessimistic. Andy? Well, who wants to talk about the price? Andrew H. Beck Senior VP & CFO Sure. Jamie, we did tweak our pricing. I think it went from $3.5 to -- $3 to $3.5, so 20 or 30 basis points. And actually, we think we'll get a little more pricing at, I guess, about Brazil specifically. So it's not that. It's just probably in our other markets that we're just being a little more cautious, and we haven't seen quite the level of price increases that we had expected. So it's just a slight tweak but not related to Brazil. Martin H. Richenhagen Chairman, President & CEO And Jamie, Brazil is not more or less competitive than any other market in the world. The industry has consolidated, but it does not mean that we don't compete. I think we compete quite a bit, which is good for our customers. So they certainly don't have to pay too much for excellent products. Operator Your next question comes from Ashish Gupta of CLSA. Ashish Ravi Gupta CLSA Americas, LLC, Research Division Just if we take a step back, and I think about the long term, is it fair to say you kind of become more bullish on the next 2 to 3, 4 years for equipment demand? The higher CapEx part of that, just the lower ending stocks tend to sets up for multiple years of high production and sort of catching up with consumption. Martin H. Richenhagen Chairman, President & CEO Well, when I'm not on a call, but for example, talk to the media, my guidance is very bullish. And I mentioned that, and I'm quoted there also for the next 100 years. So -- and you know that you always talk about the important criteria -- factful criteria, which result into a high demand. So I think the demand for farm goods will also grow in the future, and we talked already several times about the growing sector. It's a growing world population, changing diets in the emerging markets, renewable energies and so on. And I can add now in the meantime that also a lot of the chemical industries try to replace crude oil derivatives by organic products. So that means, overall, I am personally very optimistic about the future of farming globally. Not to talk about certain areas of the world, where I see huge growth opportunities. And this, of course, is also true for the next, let's say, 5 years. I'm rather optimistic. And you can see that last time, during the financial crisis, our industry reacted late but reacted somewhat because, of course, farmers also sometimes act like consumers in a way and can hold back investments. And we don't see that so far and hopefully, also not in the near future. Ashish Ravi Gupta CLSA Americas, LLC, Research Division Great. And just kind of a -- more of a follow-up on GSI on your comment that you're seeing a lot of interest from your international dealers. Has your view continued to evolve on that end in terms of the long-term opportunity? Does it seem like it's going to be a bigger international opportunity in the near term? I know you talked about a 5-year outlook of about $1 billion. Martin H. Richenhagen Chairman, President & CEO Yes. I think this is an easy target how I see it. And there are certain -- let's say, when you think about why there are certain markets like China, for example, where big international many American companies invest, companies like Tyson [ph] and so on, and they basically like the idea to go in with a standard set of solutions for the farmers and for the investors. And then in the grain segment, we talked already about that in -- most, let's say, about 50% of the harvest in Russia and Africa and countries like that are lost after harvest. So everybody needs investment and compared to smaller players in our industry, now we can basically take GSI by our hand and help them to get in touch with local dealers and people who are already connected with the market and with customers. And that's a big real synergy because we don't -- GSI doesn't have to go there and hire many people. So we have already a structure in place. And with only a little investment, we basically can grow that export business substantially. And also, I think the other advantage we have, in some of those markets, we already invested in manufacturing. But in a way that -- in some areas, it's like a start-up. When we talk, for example, about China, we have plenty of space. And we can offer GSI some manufacturing space, which will not change our cost position in total sales situation in Russia and some other markets. So that means for GSI, the big advantage is that they can now have either access to those markets on a very moderate cost base. Operator Your next question comes from the line of Michael Cox of Piper Jaffray. Michael E. Cox Piper Jaffray Companies, Research Division My first question is just trying to reconcile the qualitative commentary around your bullishness around 2013 versus the down year-over-year order boards at the end of June. Should I take that to mean that you're expecting orders to recover as we move closer to harvest in the northern hemisphere? Martin H. Richenhagen Chairman, President & CEO No, you need to make the right comparison. So we compare our order board here in this presentation to last year. And last year, our order books were record high. So if you compare to a normal average order book we have in a very good year, we are still doing fine. So therefore, I don't expect a huge change. I think this was a normal situation, and we needed also in some of our area and some of our products' order book to be a little lower because we just couldn't cope with it. Andrew H. Beck Senior VP & CFO We still have probably 4 to 5 months of orders in North America and Europe. So that, for us, is a good level. Michael E. Cox Piper Jaffray Companies, Research Division Okay. One quick follow-up on the tax rate, it was down quite a bit from the first quarter. What should we be expecting for the tax rate in the back half of the year? Andrew H. Beck Senior VP & CFO In the back half -- well, we're changing our full year expectation, bringing it down a little more to about 26%, 27% on the full year basis. So second half, that will pull it down a little more than what we had originally thought. Michael E. Cox Piper Jaffray Companies, Research Division Was there any one-time type of benefit in that quarter? Or is it just a mix of... Andrew H. Beck Senior VP & CFO No, it's mix. It's primarily the improvement in the Northern America earnings drives that rate down. Operator Your next question comes from Jerry Revich of Goldman Sachs. Jerry David Revich Goldman Sachs Group Inc., Research Division Andy, can you say more about the margin expansion in South America versus last year, versus last quarter however you want to frame it? Yes, how much of that was due to the weak real versus other cost savings? It doesn't sound like, based on your earlier answer, your pricing was a big part of the answer there. Andrew H. Beck Senior VP & CFO Jerry, in the first quarter, we had some impact from acquisitions that pulled down the margins a little unusually in the second quarter. Things kind of got back to normal, and we've been doing a great job in terms of managing material cost in Brazil. As you point out, pricing isn't great. But it's positive. So we're getting a good differential between how we're managing material cost and what the pricing is. And then the mix was a little better in the second quarter as well. So those were the key drivers. On an FX point of view, it probably gave us 20, 30 basis points improvement. Jerry David Revich Goldman Sachs Group Inc., Research Division And in terms of investment spending you've outlined in China, what's the timing around that? It doesn't look like you've spent much in this quarter. Just give us a sense for how we should think about back half of the year versus what we saw this quarter? Andrew H. Beck Senior VP & CFO Yes. As you look at both the expenses around start-up costs in China, let's say, more like 60% to 70% of that will be in the back half. And then on the Fendt side, where we have start-up costs relating to the movement into the new assembly operation, you have more like 70% of those costs in the back half, primarily in the third quarter. Jerry David Revich Goldman Sachs Group Inc., Research Division Okay. And in terms of -- with the GSI business, you've outlined the year-to-date sales of roughly $400 million, which call it 60% of your full year of sales guidance but sharply higher proportion of profits. What's going on with the cost structure in the back half of the year versus the front half? And just help us understand, please, the typical seasonality in the business. Andrew H. Beck Senior VP & CFO What happens is the fourth quarter is the lowest quarter of the year. It's only -- the sales are less than 20% of the total. And so what you see is in the third quarter, they start ramping down production. So the production levels are the highest in the second quarter. It starts to be ramped down in the third, and then the fourth is relatively low production and industrial activity there. And so as a result, you see some reduction in margins, just not as much leverage over the cost structure there. So that's pulling the margins down. Overall, the margins are still very strong for the full year. Excluding amortization intangibles, we should be in the 15% to 15.5% range. But in the fourth quarter, again, the margins are quite low and pulled that number down for the year. Operator Your next question comes from Steve Volkmann of Jefferies. Stephen Edward Volkmann Jefferies LLC, Research Division Just Martin, curious how you're thinking might have evolved with respect to dividends. Martin H. Richenhagen Chairman, President & CEO Yes. So I think I reflected about our position already a little bit, and I would like Andy to make the legally right statement in order to keep me out of jail. Andrew H. Beck Senior VP & CFO Well, 2 things. We've been obviously interested in changing our capital allocation strategy. And as you can see in our release, the very back end of our release, we have gotten our board to approve a share repurchase program. And that program is designed to primarily focus on limiting the amount of dilution that's created by our equity incentive plans that we have. So we have a $50 million share buyback authorization, and we should see some amount of share buybacks starting here at the back end of this year. As it relates to dividends, that's another part of our strategy. And we intend to have a thorough discussion with our board in the back half of this year, and we'd hope that we'll have something that we can announce later this year. Our intention is to strongly consider a dividend in the future. Stephen Edward Volkmann Jefferies LLC, Research Division Okay, great. And I apologize if I might have missed this. But just given the production sort of timing, especially with respect to Fendt in Europe, did you give us any sense of what the margin trajectory third quarter, fourth quarter we should sort of expect? Andrew H. Beck Senior VP & CFO Yes. In terms of the third quarter, we should see some margin improvement, but it will be limited because of some of the issues that you've discussed, some of the start-up costs and things like that. So we're looking at probably somewhere in that 50-basis-point improvement in the back half of the year as oppose to much more improvement. So as we get to the full year, we're again looking somewhere 50, 75 but maybe even a little bit higher than that for the full year. Stephen Edward Volkmann Jefferies LLC, Research Division So 50 bps in the back half, that's year-over-year? Andrew H. Beck Senior VP & CFO Right. Operator Your next question comes from Andy Casey of Wells Fargo. Andrew Millard Casey Wells Fargo Securities, LLC, Research Division Back to North America, and then I'd like to go international for one question. But realizing the Midwest's horrible drought, based on your experience, do farmers invest with crop insurance proceeds? Martin H. Richenhagen Chairman, President & CEO Yes, so many farmers do. So it's not an individual decision so -- but you will -- that is something, therefore, difficult to discuss but some will be compensated. Andrew Millard Casey Wells Fargo Securities, LLC, Research Division Okay. And then in the context of your disclosure on the good backlogs and some of the products in North America, if the conditions continue to decline and for whatever reasons, farmer investment starts to decline as well. Can you help us understand what you're looking at? Or what you're watching to initiate production curtailment actions? Andrew H. Beck Senior VP & CFO Andy, what we always do in these situations, whether the market is going up or down, is we monitor certain things very closely, certainly orders. We monitor retail activity. And certainly, what -- that's what drives all of our business planning as the sale to the end customer. And then we monitor dealer inventory levels. So all those are critical factors in determining what our production and sales forecast should be. Because obviously, we -- there's no benefit in increasing our level of inventory to our dealers. We want to see that flowing through the customers -- end customers. And so we'll be monitoring that very closely, looking at our order boards. And if there's adjustments up or down, we'll continue to do that in the normal course of our activities. Martin H. Richenhagen Chairman, President & CEO What we do have -- basically, we try to have about 20% to 30% term labor in our factories, which makes us very flexible. This year, and most probably I think also next year, our problem is just the opposite. We need capacity in some of our factories. And so last year also in the U.S., we hired about 500 people. So therefore, we are not looking into the direction of sizing the factories down, but we can do it if needed rather quickly. Andrew Millard Casey Wells Fargo Securities, LLC, Research Division Okay. And then could you comment if you're seeing any short-term demand impact from the Russian drought? Or is the replacement demand more than offsetting any issues over there? Martin H. Richenhagen Chairman, President & CEO The replacement amount is huge, so that means the drought will not really matter in Russia at all. Operator Your next question comes from the line of Tim Thein of Citigroup. Timothy Thein Citigroup Inc, Research Division Just coming back on the comments you made regard to -- with regards to pricing. Andy, is that relative to price cost? Is your outlook for the year changed? You mentioned that the tick-down in pricing -- just interested to hear how that's kind of trended relative to your outlook for material cost for the balance of the year. Andrew H. Beck Senior VP & CFO No, I'd say it's pretty stable. We're seeing not much pressure on material cost. And so a small change in pricing is probably not going to affect our overall margin outlook. So we're still confident and feel comfortable that we'll get those margins that we have forecasted in the back half of the year. Martin H. Richenhagen Chairman, President & CEO And the main driving factor for us [indiscernible] just very important component for us is the automotive industry and with their production going down globally. Not in the U.S. but globally, we see steel prices also going down, which is a big advantage for us. Timothy Thein Citigroup Inc, Research Division All right, that's I was getting at in terms of -- or have you seen that corresponding benefit that may be moving in tandem with that? Martin H. Richenhagen Chairman, President & CEO We see that. Timothy Thein Citigroup Inc, Research Division Okay. And just on the GSI breakdown, can you remind us what the -- you gave the sales split between grain storage versus protein. Do you have a rough proxy in terms of the EBITDA contribution between those 2 businesses? Andrew H. Beck Senior VP & CFO The margins between those 2 businesses are roughly the same. So you can assume its proportional. Martin H. Richenhagen Chairman, President & CEO And it's like 50/50. In a way, it's something -- make it easy. Operator Your next question comes from the line of Joel Tiss [ph] of BMO. Unknown Analyst I've heard a little bit about financing weakening in Europe, and I just wondered if you're seeing that at all. Martin H. Richenhagen Chairman, President & CEO We do not see that. Most of our farmers' financing needs are taken care of by AGCO Finance anyhow, so therefore, we don't see that. And then in many European markets, you have dedicated special banks so -- where you might see problems. In general, you don't see it in farming because you have Credit Agricole in -- for example, as one of those focus banks in France. And you have coop banks in the Netherlands and Germany and in Scandinavia. So therefore -- and they never were involved in the -- they didn't take the risk of some of other banks, because they were much more local. And therefore, they're not -- I think I would be astonished if a farmer would have a problem to finance his investment. Unknown Analyst Okay. And then I don't know if you answered this or not. But the margin in the U.S. business, is that excluding GSI? Is that a new sustainable level you think? And I don't mean across all cycles and everything. But are we -- are you kind of hitting your stride a little more? Or is there something in there that was a little unique to the quarter that we're still kind of building? Martin H. Richenhagen Chairman, President & CEO They're incredibly behind. Andy already talked about the details, and he can give you an update on that. But overall, of course, there's a strategy for margin improvements for AGCO globally but certainly, also here for North America, where there's a lot of strategic initiatives we implemented. And now Andy can go into the details because -- you did it already. Andrew H. Beck Senior VP & CFO Joel, I think you always have to keep in mind seasonality. So -- and the second quarter is a seasonally strong margin period for us. As I said, some of these was due to sprayers, which is really a first half product line; hay equipments, very strong in the second quarter. So there's some seasonality there. But from the standpoint of -- if you look over a full year of whether these margins are sustainable, we certainly believe they are and continuing to work on other improvement opportunities in the market there. Operator Your final question comes from the line of Seth Weber of RBC Capital Markets. Seth Robert Weber RBC Capital Markets, LLC, Research Division Just going back to the higher dealer number -- inventory numbers, can you comment -- are you seeing any change in used equipment? Is that starting to back up at all? Or have used equipment prices changed? Martin H. Richenhagen Chairman, President & CEO We don't see, first of all, higher dealer inventory numbers in general. So the dealer inventories are in good shape. We don't see any increase in used, and we don't see any price deterioration in used either. So the markets are very strong. Seth Robert Weber RBC Capital Markets, LLC, Research Division Okay. And then just lastly, your Fendt expansion should be -- I think you walked through it. Your payments are kind of back-half loaded this year. I mean, is CapEx, do you think, continuing to move up to the right next year? Or do you think that we'll have -- this is kind of a peakish number, and it should start to trend down? Andrew H. Beck Senior VP & CFO As we look forward, we would expect another relatively heavy CapEx period in 2013 as well. The big project for 2013 is the manufacturing facility in China, and most of the spending for that project is in 2013. So we still have the opportunity to move CapEx up and down to some extent, but our projections are that it will be in the same level at least in 2013. Operator That was our final question. Presenters, do you have any closing remarks? Andrew H. Beck Senior VP & CFO Yes, thank you. I -- we just wanted to thank everyone for their participation and encourage you to follow up later today if you have additional questions. Thank you. Operator This concludes today's conference call. You may now disconnect.\""
            ],
            "application/vnd.google.colaboratory.intrinsic+json": {
              "type": "string"
            }
          },
          "metadata": {},
          "execution_count": 6
        }
      ]
    },
    {
      "cell_type": "code",
      "source": [
        "a0 = lines[0]\n",
        "\n",
        "svo_list = []\n",
        "\n",
        "doc0 = nlp(a0)\n",
        "\n",
        "for token in doc0:\n",
        "  if \"subj\" in token.dep_:\n",
        "    subject = token.text\n",
        "    verb = token.head.text\n",
        "    verb_children = [child for child in token.head.children if child.dep_ ==\"dobj\"]\n",
        "    if verb_children:\n",
        "      obj = verb_children[0].text\n",
        "      svo_list.append((subject, verb, obj))\n",
        "\n",
        "svo_list\n"
      ],
      "metadata": {
        "colab": {
          "base_uri": "https://localhost:8080/"
        },
        "id": "_y6q0XFqMxLo",
        "outputId": "8bf68e21-1016-46ed-e2e9-acfabdc83d2f"
      },
      "execution_count": 7,
      "outputs": [
        {
          "output_type": "execute_result",
          "data": {
            "text/plain": [
              "[('you', 'think', 'what'),\n",
              " ('you', 'seen', 'any'),\n",
              " ('you', 'think', 'what'),\n",
              " ('we', 'have', 'visibility'),\n",
              " ('you', 'seeing', 'anything'),\n",
              " ('You', 'talked', 'bit'),\n",
              " ('you', 'starting', 'facility'),\n",
              " ('you', 'start', 'facility'),\n",
              " ('we', 'seeing', 'improvement'),\n",
              " ('I', 'ask', 'you'),\n",
              " ('you', 'did', '0.39'),\n",
              " ('you', 'watching', 'America'),\n",
              " ('strength', 'offset', 'that'),\n",
              " ('we', 'seeing', 'what'),\n",
              " ('we', 'achieved', 'that'),\n",
              " ('we', 'see', 'what'),\n",
              " ('we', 'giving', 'that'),\n",
              " ('I', 'appreciate', 'emphasis'),\n",
              " ('Martin', 'talk', 'bit'),\n",
              " ('you', 'talk', 'bit'),\n",
              " ('they', 'generate', 'profits'),\n",
              " ('We', 'seeing', 'problems'),\n",
              " ('situation', 'monitor', 'GSI'),\n",
              " ('we', 'monitor', 'GSI'),\n",
              " ('we', 'understand', 'business'),\n",
              " ('we', 'see', 'What'),\n",
              " ('We', 'have', 'lot'),\n",
              " ('we', 'see', 'growth'),\n",
              " ('which', 'offset', 'difficulties'),\n",
              " ('Chase', 'update', 'us'),\n",
              " ('you', 'update', 'us'),\n",
              " ('we', 'anticipate', 'gains'),\n",
              " ('you', 'have', 'tractors'),\n",
              " ('we', 'sold', 'some'),\n",
              " ('that', 'means', 'we'),\n",
              " ('you', 'see', 'impact'),\n",
              " ('I', 'had', 'question'),\n",
              " ('you', 'made', 'progress'),\n",
              " ('we', 'have', 'tractor'),\n",
              " ('you', 'connect', 'it'),\n",
              " ('dealers', 'getting', 'traction'),\n",
              " ('They', 'have', 'cost'),\n",
              " ('you', 'see', 'what'),\n",
              " ('tractors', 'have', 'cost'),\n",
              " ('you', 'heard', 'sort'),\n",
              " ('I', 'expecting', 'kind'),\n",
              " ('we', 'hear', 'what'),\n",
              " ('we', 'hear', 'what'),\n",
              " ('I', 'expecting', 'year'),\n",
              " ('you', 'took', 'forecast'),\n",
              " ('you', 'add', 'color'),\n",
              " ('I', 'ask', 'you'),\n",
              " ('you', 'seeing', 'that'),\n",
              " ('who', 'does', 'most'),\n",
              " ('they', 'hit', 'more'),\n",
              " ('We', 'have', 'concerns'),\n",
              " ('We', 'have', 'some'),\n",
              " ('who', 'have', 'issues'),\n",
              " ('we', 'have', 'problems'),\n",
              " ('they', 'do', 'business'),\n",
              " ('You', 'get', 'picture'),\n",
              " ('I', 'had', 'discussion'),\n",
              " ('anybody', 'assuming', 'kind'),\n",
              " ('we', 'do', 'business'),\n",
              " ('that', 'means', 'everything'),\n",
              " ('we', 'have', 'situations'),\n",
              " ('we', 'have', 'water'),\n",
              " ('we', 'have', 'enough'),\n",
              " ('I', 'hear', 'what'),\n",
              " ('we', 'tweak', 'pricing'),\n",
              " ('we', 'get', 'pricing'),\n",
              " ('we', 'seen', 'level'),\n",
              " ('we', 'expected', 'that'),\n",
              " ('we', 'take', 'step'),\n",
              " ('I', 'mentioned', 'that'),\n",
              " ('I', 'see', 'opportunities'),\n",
              " ('we', 'see', 'that'),\n",
              " ('you', 'seeing', 'lot'),\n",
              " ('I', 'see', 'it'),\n",
              " ('they', 'like', 'idea'),\n",
              " ('everybody', 'needs', 'investment'),\n",
              " ('we', 'take', 'GSI'),\n",
              " ('we', 'have', 'structure'),\n",
              " ('we', 'grow', 'business'),\n",
              " ('we', 'have', 'plenty'),\n",
              " ('we', 'offer', 'space'),\n",
              " ('which', 'change', 'position'),\n",
              " ('they', 'have', 'access'),\n",
              " ('I', 'take', 'that'),\n",
              " ('you', 'expecting', 'orders'),\n",
              " ('we', 'compare', 'board'),\n",
              " ('we', 'doing', 'fine'),\n",
              " ('I', 'expect', 'change'),\n",
              " ('We', 'have', 'months'),\n",
              " ('we', 'expecting', 'What'),\n",
              " ('we', 'changing', 'expectation'),\n",
              " ('that', 'pull', 'it'),\n",
              " ('we', 'thought', 'what'),\n",
              " ('Inc.', 'say', 'more'),\n",
              " ('you', 'say', 'more'),\n",
              " ('we', 'had', 'impact'),\n",
              " ('that', 'pulled', 'margins'),\n",
              " ('we', 'doing', 'job'),\n",
              " ('we', 'getting', 'differential'),\n",
              " ('we', 'managing', 'cost'),\n",
              " ('it', 'gave', 'improvement'),\n",
              " ('you', 'spent', 'much'),\n",
              " ('we', 'saw', 'what'),\n",
              " (\"'s\", 'say', '70'),\n",
              " ('we', 'have', 'costs'),\n",
              " ('you', 'have', '%'),\n",
              " ('you', 'outlined', 'sales'),\n",
              " ('which', 'call', 'it'),\n",
              " ('us', 'understand', 'seasonality'),\n",
              " ('you', 'see', 'what'),\n",
              " ('you', 'see', 'reduction'),\n",
              " ('that', 'pulling', 'margins'),\n",
              " ('I', 'like', 'Andy'),\n",
              " ('board', 'approve', 'program'),\n",
              " ('we', 'have', 'that'),\n",
              " ('we', 'have', 'authorization'),\n",
              " ('we', 'see', 'amount'),\n",
              " ('we', 'have', 'something'),\n",
              " ('we', 'announce', 'that'),\n",
              " ('I', 'missed', 'this'),\n",
              " ('you', 'give', 'sense'),\n",
              " ('we', 'expect', 'what'),\n",
              " ('we', 'see', 'improvement'),\n",
              " ('you', 'discussed', 'that'),\n",
              " ('we', 'do', 'what'),\n",
              " ('we', 'monitor', 'things'),\n",
              " ('We', 'monitor', 'activity'),\n",
              " ('what', 'drives', 'all'),\n",
              " ('we', 'monitor', 'levels'),\n",
              " ('we', 'have', 'What'),\n",
              " ('We', 'need', 'capacity'),\n",
              " ('we', 'hired', 'people'),\n",
              " ('we', 'do', 'it'),\n",
              " ('you', 'seeing', 'impact'),\n",
              " ('you', 'made', 'regard'),\n",
              " ('You', 'mentioned', 'that'),\n",
              " ('We', 'seeing', 'pressure'),\n",
              " ('we', 'get', 'margins'),\n",
              " ('we', 'forecasted', 'that'),\n",
              " ('you', 'seen', 'benefit'),\n",
              " ('Chairman', 'see', 'that'),\n",
              " ('We', 'see', 'that'),\n",
              " ('you', 'remind', 'us'),\n",
              " ('you', 'gave', 'split'),\n",
              " ('you', 'have', 'proxy'),\n",
              " ('you', 'assume', 'proportional'),\n",
              " ('I', 'heard', 'bit'),\n",
              " ('you', 'seeing', 'that'),\n",
              " ('We', 'see', 'that'),\n",
              " ('Most', 'taken', 'care'),\n",
              " ('we', 'see', 'that'),\n",
              " ('you', 'dedicated', 'banks'),\n",
              " ('you', 'see', 'problems'),\n",
              " ('you', 'see', 'it'),\n",
              " ('you', 'have', 'Agricole'),\n",
              " ('you', 'have', 'banks'),\n",
              " ('they', 'take', 'risk'),\n",
              " ('farmer', 'have', 'problem'),\n",
              " ('you', 'answered', 'this'),\n",
              " ('he', 'give', 'update'),\n",
              " ('you', 'did', 'it'),\n",
              " ('you', 'seeing', 'change'),\n",
              " ('We', 'see', 'increase'),\n",
              " ('we', 'see', 'deterioration'),\n",
              " ('we', 'expect', 'period'),\n",
              " ('we', 'have', 'opportunity'),\n",
              " ('you', 'have', 'remarks'),\n",
              " ('you', 'have', 'questions'),\n",
              " ('Operator', 'concludes', 'call'),\n",
              " ('This', 'concludes', 'call')]"
            ]
          },
          "metadata": {},
          "execution_count": 7
        }
      ]
    },
    {
      "cell_type": "code",
      "source": [
        "\n",
        "# Function to extract SVO triples from a sentence\n",
        "def extract_svo(sentence):\n",
        "    svo_list = []\n",
        "    doc = nlp(sentence)\n",
        "    for token in doc:\n",
        "        if \"subj\" in token.dep_:\n",
        "            subject = token.text\n",
        "            verb = token.head.text\n",
        "            verb_children = [child for child in token.head.children if child.dep_ == \"dobj\"]\n",
        "            if verb_children:\n",
        "                obj = verb_children[0].text\n",
        "                svo_list.append((subject, verb, obj))\n",
        "    return svo_list\n",
        "\n",
        "# Tokenize sentences and extract SVO triples\n",
        "data = []\n",
        "\n",
        "documents = lines\n",
        "\n",
        "for document in documents:\n",
        "    sentences = [sent.text for sent in nlp(document).sents]\n",
        "    for sentence in sentences:\n",
        "        svo_triples = extract_svo(sentence)\n",
        "        for svo in svo_triples:\n",
        "            data.append({'Sentence': sentence, 'Subject': svo[0], 'Verb': svo[1], 'Object': svo[2]})\n",
        "\n",
        "# Create a DataFrame from the extracted data\n",
        "df2 = pd.DataFrame(data)\n",
        "\n",
        "# Display the DataFrame\n",
        "print(df2)\n"
      ],
      "metadata": {
        "colab": {
          "base_uri": "https://localhost:8080/"
        },
        "id": "YXA5aOHeNkDh",
        "outputId": "b698f532-4597-4fe2-ef3b-ed915c8ec65d"
      },
      "execution_count": 8,
      "outputs": [
        {
          "output_type": "stream",
          "name": "stdout",
          "text": [
            "                                               Sentence   Subject       Verb  \\\n",
            "0     And particularly in high-horsepower tractors, ...       you      think   \n",
            "1                                    Have you seen any?       you       seen   \n",
            "2     And what do you think of the risk is going for...       you      think   \n",
            "3     Martin H. Richenhagen Chairman, President & CE...        we       have   \n",
            "4     So -- and you're not really seeing anything so...       you     seeing   \n",
            "...                                                 ...       ...        ...   \n",
            "1282                  Glenn S. Lyon Chairman Thank you.  Chairman      Thank   \n",
            "1283  We've successfully done this before and I'm co...        We       done   \n",
            "1284  In the meantime, I hope all of you have a happ...       all       have   \n",
            "1285   Operator This concludes today's conference call.  Operator  concludes   \n",
            "1286   Operator This concludes today's conference call.      This  concludes   \n",
            "\n",
            "          Object  \n",
            "0           what  \n",
            "1            any  \n",
            "2           what  \n",
            "3     visibility  \n",
            "4       anything  \n",
            "...          ...  \n",
            "1282         you  \n",
            "1283        this  \n",
            "1284      season  \n",
            "1285        call  \n",
            "1286        call  \n",
            "\n",
            "[1287 rows x 4 columns]\n"
          ]
        }
      ]
    },
    {
      "cell_type": "code",
      "source": [
        "df2.to_csv('data.csv', index=False)\n"
      ],
      "metadata": {
        "id": "RdTFZBSGN9sR"
      },
      "execution_count": 9,
      "outputs": []
    }
  ]
}